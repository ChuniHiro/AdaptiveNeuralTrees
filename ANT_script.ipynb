{
 "cells": [
  {
   "cell_type": "code",
   "execution_count": 1,
   "metadata": {},
   "outputs": [],
   "source": [
    "import numpy as np"
   ]
  },
  {
   "cell_type": "code",
   "execution_count": 2,
   "metadata": {},
   "outputs": [
    {
     "name": "stdout",
     "output_type": "stream",
     "text": [
      "(60000, 1, 1, 469)\n",
      "(60000, 1, 1, 652)\n"
     ]
    }
   ],
   "source": [
    "fashion = np.load(\"/media/4t/dummy/Projects/AdaptiveNeuralTrees/data_mnist/fashion/tr_feature_Hop3_AUG0.npy\")\n",
    "print(fashion.shape)\n",
    "mnist = np.load(\"/media/4t/dummy/Projects/AdaptiveNeuralTrees/data_mnist/mnist/tr_feature_Hop3_AUG0.npy\")\n",
    "print(mnist.shape)"
   ]
  },
  {
   "cell_type": "code",
   "execution_count": null,
   "metadata": {},
   "outputs": [],
   "source": []
  }
 ],
 "metadata": {
  "kernelspec": {
   "display_name": "saab",
   "language": "python",
   "name": "python3"
  },
  "language_info": {
   "codemirror_mode": {
    "name": "ipython",
    "version": 3
   },
   "file_extension": ".py",
   "mimetype": "text/x-python",
   "name": "python",
   "nbconvert_exporter": "python",
   "pygments_lexer": "ipython3",
   "version": "3.8.11"
  },
  "orig_nbformat": 4
 },
 "nbformat": 4,
 "nbformat_minor": 2
}
